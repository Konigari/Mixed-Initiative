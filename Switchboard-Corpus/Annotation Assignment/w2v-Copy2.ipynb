{
 "cells": [
  {
   "cell_type": "code",
   "execution_count": 26,
   "metadata": {},
   "outputs": [],
   "source": [
    "from sklearn.feature_extraction.text import CountVectorizer\n",
    "from sklearn.feature_extraction.text import TfidfTransformer\n",
    "from sklearn.naive_bayes import MultinomialNB\n",
    "from sklearn.pipeline import Pipeline\n",
    "import os \n",
    "import numpy as np\n",
    "import glob\n",
    "import pandas as pd\n",
    "from sklearn.model_selection import train_test_split\n",
    "from sklearn.linear_model import SGDClassifier\n",
    "from sklearn.model_selection import GridSearchCV\n",
    "from sklearn.linear_model import LogisticRegression\n",
    "from nltk.stem.porter import PorterStemmer\n",
    "from nltk.tokenize import word_tokenize\n",
    "from tqdm import tqdm\n",
    "from sklearn.decomposition import PCA\n",
    "from sklearn.preprocessing import scale\n",
    "from sklearn.preprocessing import LabelBinarizer\n",
    "from sklearn.svm import SVR\n",
    "from nltk.tokenize import word_tokenize\n",
    "from nltk import pos_tag\n",
    "from collections import Counter"
   ]
  },
  {
   "cell_type": "code",
   "execution_count": 27,
   "metadata": {},
   "outputs": [
    {
     "name": "stderr",
     "output_type": "stream",
     "text": [
      "[nltk_data] Downloading package averaged_perceptron_tagger to\n",
      "[nltk_data]     /home/mukul/nltk_data...\n",
      "[nltk_data]   Unzipping taggers/averaged_perceptron_tagger.zip.\n"
     ]
    },
    {
     "data": {
      "text/plain": [
       "True"
      ]
     },
     "execution_count": 27,
     "metadata": {},
     "output_type": "execute_result"
    }
   ],
   "source": [
    "import nltk\n",
    "nltk.download('averaged_perceptron_tagger')"
   ]
  },
  {
   "cell_type": "code",
   "execution_count": 28,
   "metadata": {},
   "outputs": [],
   "source": [
    "dirs = [files for files in glob.glob('./Generated CSV/*.csv')]"
   ]
  },
  {
   "cell_type": "code",
   "execution_count": 29,
   "metadata": {},
   "outputs": [],
   "source": [
    "def create_feature(sentence,line_number,all_n_word_tokens,all_pos_tags):\n",
    "    features = {\n",
    "        'n_word_tokens': all_n_word_tokens[line_number],\n",
    "        'standard POS tags as in Penn Treebank': all_pos_tags[line_number],\n",
    "        'line number in conversation': line_number ,\n",
    "        ## 'utterance type ' : ?? ##I think we should give that rsa tags that we had with each sentence , or make some classification with it,\n",
    "        'utterance length':len(word_tokenize(sentence)),\n",
    "        'n word tokens in previous & next 5 utterances' : all_n_word_tokens[line_number-5: line_number+5],\n",
    "         'standard POS tags in previous & next 5 utterances': all_pos_tags[line_number-5:line_number+5],\n",
    "        \n",
    "    }\n",
    "    ##n word tokens \n",
    "\n",
    "    return ##dictionary flatenned"
   ]
  },
  {
   "cell_type": "code",
   "execution_count": 30,
   "metadata": {},
   "outputs": [],
   "source": [
    "def word_token_generator(df):\n",
    "    counter = Counter()\n",
    "    for index,lines in enumerate(df['Conversation']):\n",
    "        tokens = word_tokenize(lines)\n",
    "        for word in tokens:\n",
    "            counter[word]+=1\n",
    "    return counter"
   ]
  },
  {
   "cell_type": "code",
   "execution_count": 31,
   "metadata": {},
   "outputs": [],
   "source": [
    "def all_nword_generator(df,counter):\n",
    "    all_nword = CustomList([])\n",
    "    for line in df['Conversation']:\n",
    "        all_nword.append([counter[word] for word in line])\n",
    "    return all_nword\n",
    "    "
   ]
  },
  {
   "cell_type": "code",
   "execution_count": 32,
   "metadata": {},
   "outputs": [],
   "source": [
    "class CustomList(list):\n",
    "    def __getitem__(self, n):\n",
    "        if n >= len(self) or n < 0 :\n",
    "            return []\n",
    "        return super(CustomList, self).__getitem__(n)\n",
    "    \n",
    "\n",
    "def all_pos_tag_generator(df):\n",
    "    all_pos = CustomList([])\n",
    "    for line in df['Conversation']:\n",
    "        temp = Counter(pos_tag(line))\n",
    "        all_pos.append(temp)\n",
    "    return all_pos"
   ]
  },
  {
   "cell_type": "code",
   "execution_count": 47,
   "metadata": {},
   "outputs": [
    {
     "name": "stdout",
     "output_type": "stream",
     "text": [
      "a\n",
      "0\n"
     ]
    }
   ],
   "source": [
    "\n",
    "\n",
    "\n"
   ]
  },
  {
   "cell_type": "code",
   "execution_count": null,
   "metadata": {},
   "outputs": [],
   "source": [
    "\n",
    "\n",
    "\n",
    "def valid_text(conversations):\n",
    "    X = []\n",
    "    Y = []\n",
    "    for conversation_file in conversations:\n",
    "        df = pd.read_csv(conversation_file,delimiter=',')\n",
    "        df = df[df['Conversation'].notnull()]\n",
    "        counter = word_token_generator(df)\n",
    "        all_n_word_tokens = all_nword_generator(df,counter)\n",
    "        all_pos_tags = all_pos_tag_generator(df) \n",
    "        for index,lines in enumerate(df['Conversation']):\n",
    "#             print(df[df.columns[0]])\n",
    "            X.append(create_feature(lines,df[df.columns[0]],all_n_word_tokens,all_pos_tags))\n",
    "            target.append(float(df['Class'][index]))\n",
    "    \n",
    "    return text,target"
   ]
  },
  {
   "cell_type": "code",
   "execution_count": null,
   "metadata": {},
   "outputs": [],
   "source": [
    "text,target = valid_text(dirs)"
   ]
  },
  {
   "cell_type": "code",
   "execution_count": 412,
   "metadata": {},
   "outputs": [],
   "source": [
    "X_train, X_test, y_train, y_test = train_test_split(text, target, test_size=0.1,shuffle=False)"
   ]
  },
  {
   "cell_type": "code",
   "execution_count": 255,
   "metadata": {},
   "outputs": [],
   "source": [
    "def loadGloveModel(gloveFile):\n",
    "    print(\"Loading Glove Model\")\n",
    "    embeddings_index = {}\n",
    "    f = open(r'../glove.840B.300d.txt', encoding='utf8')\n",
    "    for line in f:\n",
    "        values = line.split()\n",
    "        word = ''.join(values[:-300])\n",
    "        coefs = np.asarray(values[-300:], dtype='float32')\n",
    "        embeddings_index[word] = coefs\n",
    "    f.close()\n",
    "    return embeddings_index\n",
    "\n",
    "    "
   ]
  },
  {
   "cell_type": "code",
   "execution_count": null,
   "metadata": {},
   "outputs": [],
   "source": [
    "path = '../glove.840B.300d.txt'\n",
    "w2v_dict = loadGloveModel(path)"
   ]
  },
  {
   "cell_type": "code",
   "execution_count": 413,
   "metadata": {},
   "outputs": [],
   "source": [
    "def w2v_mapper(data):\n",
    "    a = []\n",
    "    for sentences in tqdm(data):\n",
    "        sentence = word_tokenize(sentences)\n",
    "        array = []\n",
    "        for word in sentence:\n",
    "            try:\n",
    "                array.append([w2v_dict[word]])\n",
    "            except:\n",
    "                pass\n",
    "        \n",
    "        w2v_sentence = np.mean(array, axis=0)\n",
    "        a.append(w2v_sentence.flatten())\n",
    "        \n",
    "    a = np.array(a)\n",
    "    return a"
   ]
  },
  {
   "cell_type": "code",
   "execution_count": 414,
   "metadata": {},
   "outputs": [
    {
     "name": "stderr",
     "output_type": "stream",
     "text": [
      "100%|██████████| 11284/11284 [00:01<00:00, 5906.88it/s]\n"
     ]
    }
   ],
   "source": [
    "X_train_emb = w2v_mapper(X_train)"
   ]
  },
  {
   "cell_type": "code",
   "execution_count": 415,
   "metadata": {},
   "outputs": [
    {
     "name": "stderr",
     "output_type": "stream",
     "text": [
      "100%|██████████| 1254/1254 [00:00<00:00, 5884.73it/s]\n"
     ]
    }
   ],
   "source": [
    "X_test_emb = w2v_mapper(X_test)"
   ]
  },
  {
   "cell_type": "code",
   "execution_count": 406,
   "metadata": {},
   "outputs": [],
   "source": [
    "def reduce_dim(data):\n",
    "    pca = PCA(n_components=200)\n",
    "    result = pca.fit_transform(data)\n",
    "    return result"
   ]
  },
  {
   "cell_type": "code",
   "execution_count": 407,
   "metadata": {},
   "outputs": [],
   "source": [
    "X_train_pca = reduce_dim(X_train_emb)\n",
    "X_test_pca = reduce_dim(X_test_emb)"
   ]
  },
  {
   "cell_type": "code",
   "execution_count": 420,
   "metadata": {},
   "outputs": [],
   "source": [
    "clf = SGDClassifier(loss='hinge', penalty='l1',\n",
    "                          alpha=1e-4, random_state=42,\n",
    "                          max_iter=250, tol=None).fit(X_train_emb,y_train)\n"
   ]
  },
  {
   "cell_type": "code",
   "execution_count": 422,
   "metadata": {},
   "outputs": [],
   "source": [
    "clf_log = LogisticRegression(solver='lbfgs',multi_class='multinomial',max_iter=10000).fit(X_train_emb,y_train)\n"
   ]
  },
  {
   "cell_type": "code",
   "execution_count": 421,
   "metadata": {},
   "outputs": [
    {
     "data": {
      "text/plain": [
       "0.3572567783094099"
      ]
     },
     "execution_count": 421,
     "metadata": {},
     "output_type": "execute_result"
    }
   ],
   "source": [
    "predicted = clf.predict(X_test_emb)\n",
    "np.mean(predicted == y_test) "
   ]
  },
  {
   "cell_type": "code",
   "execution_count": 271,
   "metadata": {},
   "outputs": [
    {
     "data": {
      "text/plain": [
       "(11284, 300)"
      ]
     },
     "execution_count": 271,
     "metadata": {},
     "output_type": "execute_result"
    }
   ],
   "source": [
    "X_train_emb.shape"
   ]
  },
  {
   "cell_type": "code",
   "execution_count": 423,
   "metadata": {},
   "outputs": [
    {
     "data": {
      "text/plain": [
       "0.3572567783094099"
      ]
     },
     "execution_count": 423,
     "metadata": {},
     "output_type": "execute_result"
    }
   ],
   "source": [
    "predicted = clf_log.predict(X_test_emb)\n",
    "np.mean(predicted == y_test) "
   ]
  },
  {
   "cell_type": "code",
   "execution_count": 322,
   "metadata": {},
   "outputs": [
    {
     "name": "stderr",
     "output_type": "stream",
     "text": [
      "Using TensorFlow backend.\n"
     ]
    }
   ],
   "source": [
    "from keras.models import Sequential\n",
    "from keras.layers import Dense\n",
    "from keras.layers import Dropout\n",
    "from keras.layers import Flatten\n",
    "from keras.constraints import maxnorm\n",
    "from keras.optimizers import SGD\n",
    "from keras.layers.convolutional import Conv2D\n",
    "from keras.layers.convolutional import MaxPooling2D\n",
    "from keras.utils import np_utils\n",
    "from keras.callbacks import Callback"
   ]
  },
  {
   "cell_type": "code",
   "execution_count": 359,
   "metadata": {},
   "outputs": [],
   "source": [
    "encoder = LabelBinarizer()\n",
    "encoder.fit(y_train)\n",
    "y_train = encoder.transform(y_train)\n",
    "y_test = encoder.transform(y_test)"
   ]
  },
  {
   "cell_type": "code",
   "execution_count": 391,
   "metadata": {},
   "outputs": [
    {
     "name": "stdout",
     "output_type": "stream",
     "text": [
      "Epoch 1/100\n",
      " - 0s - loss: 1.0734 - accuracy: 0.4127\n",
      "Epoch 2/100\n",
      " - 0s - loss: 1.0644 - accuracy: 0.4288\n",
      "Epoch 3/100\n",
      " - 0s - loss: 1.0576 - accuracy: 0.4421\n",
      "Epoch 4/100\n",
      " - 0s - loss: 1.0513 - accuracy: 0.4484\n",
      "Epoch 5/100\n",
      " - 0s - loss: 1.0447 - accuracy: 0.4537\n",
      "Epoch 6/100\n",
      " - 0s - loss: 1.0392 - accuracy: 0.4538\n",
      "Epoch 7/100\n",
      " - 0s - loss: 1.0329 - accuracy: 0.4613\n",
      "Epoch 8/100\n",
      " - 0s - loss: 1.0274 - accuracy: 0.4702\n",
      "Epoch 9/100\n",
      " - 0s - loss: 1.0230 - accuracy: 0.4785\n",
      "Epoch 10/100\n",
      " - 0s - loss: 1.0172 - accuracy: 0.4790\n",
      "Epoch 11/100\n",
      " - 0s - loss: 1.0118 - accuracy: 0.4845\n",
      "Epoch 12/100\n",
      " - 0s - loss: 1.0044 - accuracy: 0.4928\n",
      "Epoch 13/100\n",
      " - 0s - loss: 0.9975 - accuracy: 0.4944\n",
      "Epoch 14/100\n",
      " - 0s - loss: 0.9928 - accuracy: 0.4982\n",
      "Epoch 15/100\n",
      " - 0s - loss: 0.9897 - accuracy: 0.4988\n",
      "Epoch 16/100\n",
      " - 0s - loss: 0.9813 - accuracy: 0.5077\n",
      "Epoch 17/100\n",
      " - 0s - loss: 0.9764 - accuracy: 0.5121\n",
      "Epoch 18/100\n",
      " - 0s - loss: 0.9713 - accuracy: 0.5155\n",
      "Epoch 19/100\n",
      " - 0s - loss: 0.9676 - accuracy: 0.5181\n",
      "Epoch 20/100\n",
      " - 0s - loss: 0.9637 - accuracy: 0.5204\n",
      "Epoch 21/100\n",
      " - 0s - loss: 0.9583 - accuracy: 0.5221\n",
      "Epoch 22/100\n",
      " - 0s - loss: 0.9542 - accuracy: 0.5281\n",
      "Epoch 23/100\n",
      " - 0s - loss: 0.9476 - accuracy: 0.5308\n",
      "Epoch 24/100\n",
      " - 0s - loss: 0.9440 - accuracy: 0.5329\n",
      "Epoch 25/100\n",
      " - 0s - loss: 0.9363 - accuracy: 0.5408\n",
      "Epoch 26/100\n",
      " - 0s - loss: 0.9338 - accuracy: 0.5421\n",
      "Epoch 27/100\n",
      " - 0s - loss: 0.9306 - accuracy: 0.5469\n",
      "Epoch 28/100\n",
      " - 0s - loss: 0.9255 - accuracy: 0.5494\n",
      "Epoch 29/100\n",
      " - 0s - loss: 0.9205 - accuracy: 0.5502\n",
      "Epoch 30/100\n",
      " - 0s - loss: 0.9172 - accuracy: 0.5562\n",
      "Epoch 31/100\n",
      " - 0s - loss: 0.9122 - accuracy: 0.5582\n",
      "Epoch 32/100\n",
      " - 0s - loss: 0.9107 - accuracy: 0.5608\n",
      "Epoch 33/100\n",
      " - 0s - loss: 0.9047 - accuracy: 0.5608\n",
      "Epoch 34/100\n",
      " - 0s - loss: 0.9004 - accuracy: 0.5639\n",
      "Epoch 35/100\n",
      " - 0s - loss: 0.8974 - accuracy: 0.5644\n",
      "Epoch 36/100\n",
      " - 0s - loss: 0.8902 - accuracy: 0.5713\n",
      "Epoch 37/100\n",
      " - 0s - loss: 0.8901 - accuracy: 0.5700\n",
      "Epoch 38/100\n",
      " - 0s - loss: 0.8848 - accuracy: 0.5781\n",
      "Epoch 39/100\n",
      " - 0s - loss: 0.8812 - accuracy: 0.5772\n",
      "Epoch 40/100\n",
      " - 0s - loss: 0.8764 - accuracy: 0.5800\n",
      "Epoch 41/100\n",
      " - 0s - loss: 0.8722 - accuracy: 0.5837\n",
      "Epoch 42/100\n",
      " - 0s - loss: 0.8663 - accuracy: 0.5867\n",
      "Epoch 43/100\n",
      " - 0s - loss: 0.8662 - accuracy: 0.5824\n",
      "Epoch 44/100\n",
      " - 0s - loss: 0.8636 - accuracy: 0.5892\n",
      "Epoch 45/100\n",
      " - 0s - loss: 0.8613 - accuracy: 0.5859\n",
      "Epoch 46/100\n",
      " - 0s - loss: 0.8538 - accuracy: 0.5926\n",
      "Epoch 47/100\n",
      " - 0s - loss: 0.8499 - accuracy: 0.5972\n",
      "Epoch 48/100\n",
      " - 0s - loss: 0.8456 - accuracy: 0.5979\n",
      "Epoch 49/100\n",
      " - 0s - loss: 0.8419 - accuracy: 0.5996\n",
      "Epoch 50/100\n",
      " - 0s - loss: 0.8405 - accuracy: 0.6018\n",
      "Epoch 51/100\n",
      " - 0s - loss: 0.8407 - accuracy: 0.5975\n",
      "Epoch 52/100\n",
      " - 0s - loss: 0.8381 - accuracy: 0.6025\n",
      "Epoch 53/100\n",
      " - 0s - loss: 0.8300 - accuracy: 0.6081\n",
      "Epoch 54/100\n",
      " - 0s - loss: 0.8252 - accuracy: 0.6067\n",
      "Epoch 55/100\n",
      " - 0s - loss: 0.8242 - accuracy: 0.6075\n",
      "Epoch 56/100\n",
      " - 0s - loss: 0.8218 - accuracy: 0.6083\n",
      "Epoch 57/100\n",
      " - 0s - loss: 0.8159 - accuracy: 0.6136\n",
      "Epoch 58/100\n",
      " - 0s - loss: 0.8169 - accuracy: 0.6148\n",
      "Epoch 59/100\n",
      " - 0s - loss: 0.8076 - accuracy: 0.6219\n",
      "Epoch 60/100\n",
      " - 0s - loss: 0.8068 - accuracy: 0.6213\n",
      "Epoch 61/100\n",
      " - 0s - loss: 0.8027 - accuracy: 0.6230\n",
      "Epoch 62/100\n",
      " - 0s - loss: 0.8008 - accuracy: 0.6213\n",
      "Epoch 63/100\n",
      " - 0s - loss: 0.7989 - accuracy: 0.6227\n",
      "Epoch 64/100\n",
      " - 0s - loss: 0.7948 - accuracy: 0.6253\n",
      "Epoch 65/100\n",
      " - 0s - loss: 0.7918 - accuracy: 0.6252\n",
      "Epoch 66/100\n",
      " - 0s - loss: 0.7869 - accuracy: 0.6349\n",
      "Epoch 67/100\n",
      " - 0s - loss: 0.7877 - accuracy: 0.6318\n",
      "Epoch 68/100\n",
      " - 0s - loss: 0.7803 - accuracy: 0.6354\n",
      "Epoch 69/100\n",
      " - 0s - loss: 0.7814 - accuracy: 0.6309\n",
      "Epoch 70/100\n",
      " - 0s - loss: 0.7775 - accuracy: 0.6342\n",
      "Epoch 71/100\n",
      " - 0s - loss: 0.7741 - accuracy: 0.6369\n",
      "Epoch 72/100\n",
      " - 0s - loss: 0.7723 - accuracy: 0.6370\n",
      "Epoch 73/100\n",
      " - 0s - loss: 0.7694 - accuracy: 0.6413\n",
      "Epoch 74/100\n",
      " - 0s - loss: 0.7672 - accuracy: 0.6420\n",
      "Epoch 75/100\n",
      " - 0s - loss: 0.7623 - accuracy: 0.6447\n",
      "Epoch 76/100\n",
      " - 0s - loss: 0.7624 - accuracy: 0.6476\n",
      "Epoch 77/100\n",
      " - 0s - loss: 0.7557 - accuracy: 0.6507\n",
      "Epoch 78/100\n",
      " - 0s - loss: 0.7544 - accuracy: 0.6482\n",
      "Epoch 79/100\n",
      " - 0s - loss: 0.7518 - accuracy: 0.6507\n",
      "Epoch 80/100\n",
      " - 0s - loss: 0.7524 - accuracy: 0.6484\n",
      "Epoch 81/100\n",
      " - 0s - loss: 0.7476 - accuracy: 0.6533\n",
      "Epoch 82/100\n",
      " - 0s - loss: 0.7445 - accuracy: 0.6536\n",
      "Epoch 83/100\n",
      " - 0s - loss: 0.7440 - accuracy: 0.6555\n",
      "Epoch 84/100\n",
      " - 0s - loss: 0.7402 - accuracy: 0.6548\n",
      "Epoch 85/100\n",
      " - 0s - loss: 0.7342 - accuracy: 0.6604\n",
      "Epoch 86/100\n",
      " - 0s - loss: 0.7340 - accuracy: 0.6572\n",
      "Epoch 87/100\n",
      " - 0s - loss: 0.7359 - accuracy: 0.6535\n",
      "Epoch 88/100\n",
      " - 0s - loss: 0.7275 - accuracy: 0.6655\n",
      "Epoch 89/100\n",
      " - 0s - loss: 0.7295 - accuracy: 0.6605\n",
      "Epoch 90/100\n",
      " - 0s - loss: 0.7320 - accuracy: 0.6594\n",
      "Epoch 91/100\n",
      " - 0s - loss: 0.7233 - accuracy: 0.6660\n",
      "Epoch 92/100\n",
      " - 0s - loss: 0.7195 - accuracy: 0.6672\n",
      "Epoch 93/100\n",
      " - 0s - loss: 0.7190 - accuracy: 0.6650\n",
      "Epoch 94/100\n",
      " - 0s - loss: 0.7181 - accuracy: 0.6667\n",
      "Epoch 95/100\n",
      " - 0s - loss: 0.7115 - accuracy: 0.6712\n",
      "Epoch 96/100\n",
      " - 0s - loss: 0.7114 - accuracy: 0.6708\n",
      "Epoch 97/100\n",
      " - 0s - loss: 0.7126 - accuracy: 0.6697\n",
      "Epoch 98/100\n",
      " - 0s - loss: 0.7081 - accuracy: 0.6741\n",
      "Epoch 99/100\n",
      " - 0s - loss: 0.7044 - accuracy: 0.6745\n",
      "Epoch 100/100\n",
      " - 0s - loss: 0.7041 - accuracy: 0.6756\n"
     ]
    },
    {
     "data": {
      "text/plain": [
       "<keras.callbacks.callbacks.History at 0x1455f44b6f98>"
      ]
     },
     "execution_count": 391,
     "metadata": {},
     "output_type": "execute_result"
    }
   ],
   "source": [
    "model = Sequential()\n",
    "model.add(Dense(64, activation='relu', input_dim=300))\n",
    "model.add(Dense(3, activation='sigmoid'))\n",
    "model.compile(optimizer='adam',\n",
    "              loss='categorical_crossentropy',\n",
    "              metrics=['accuracy'])\n",
    "\n",
    "model.fit(X_train_emb, y_train, epochs=100, batch_size=64, verbose=2)"
   ]
  },
  {
   "cell_type": "code",
   "execution_count": 392,
   "metadata": {},
   "outputs": [],
   "source": [
    "score = model.evaluate(X_test_emb, y_test, batch_size=128, verbose=2)\n"
   ]
  },
  {
   "cell_type": "code",
   "execution_count": 393,
   "metadata": {},
   "outputs": [
    {
     "data": {
      "text/plain": [
       "[1.5679596909685758, 0.35247209668159485]"
      ]
     },
     "execution_count": 393,
     "metadata": {},
     "output_type": "execute_result"
    }
   ],
   "source": [
    "score"
   ]
  },
  {
   "cell_type": "code",
   "execution_count": null,
   "metadata": {},
   "outputs": [],
   "source": []
  },
  {
   "cell_type": "code",
   "execution_count": null,
   "metadata": {},
   "outputs": [],
   "source": []
  }
 ],
 "metadata": {
  "kernelspec": {
   "display_name": "Python 3",
   "language": "python",
   "name": "python3"
  },
  "language_info": {
   "codemirror_mode": {
    "name": "ipython",
    "version": 3
   },
   "file_extension": ".py",
   "mimetype": "text/x-python",
   "name": "python",
   "nbconvert_exporter": "python",
   "pygments_lexer": "ipython3",
   "version": "3.7.3"
  }
 },
 "nbformat": 4,
 "nbformat_minor": 2
}
