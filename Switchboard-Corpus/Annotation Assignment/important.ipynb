{
 "cells": [
  {
   "cell_type": "code",
   "execution_count": 1,
   "metadata": {},
   "outputs": [],
   "source": [
    "import pandas as pd\n",
    "import os\n",
    "import math\n",
    "\n",
    "import numpy as np"
   ]
  },
  {
   "cell_type": "code",
   "execution_count": 13,
   "metadata": {},
   "outputs": [],
   "source": [
    "dirs = os.listdir('./Generated CSV/')\n",
    "dirs = ['Generated CSV/'+ x for x in dirs ]\n",
    "myfile = open('xyz.txt', 'w+')\n",
    "for index1,files in enumerate(dirs):\n",
    "    reads = pd.read_csv(files,delimiter = ',')\n",
    "    reads = reads.replace(np.nan, 0, regex=True)\n",
    "    j = 1\n",
    "    label = []\n",
    "    count1=0\n",
    "    count2 =0\n",
    "    for index in range(len(reads)-10):\n",
    "        if reads['Conversation'][index] :\n",
    "#             print(label)\n",
    "            var1 = str(j) + ' ' + str(reads['Conversation'][index])\n",
    "            myfile.write(\"%s\\n\" % var1)\n",
    "            label.append(reads['Class'][index])\n",
    "            if j == 9:\n",
    "                if label.count(label[0]) == len(label): \n",
    "                    var1 = str(j+1) + \" Is there a topic shift \tno\t9\"\n",
    "                    myfile.write(\"%s\\n\" % var1)\n",
    "                    count1+=1\n",
    "                else:\n",
    "                    v = np.array(label)\n",
    "                    a =(np.where(v[:-1] != v[1:])[0])[0] + 1\n",
    "                    var1 = str(j+1) + \" Is there a topic shift \tyes\t\" + str(a+1) \n",
    "                    myfile.write(\"%s\\n\" % var1)\n",
    "                    count2+=1\n",
    "                j = 1\n",
    "                label = []\n",
    "                \n",
    "            else:\n",
    "                j += 1\n",
    "myfile.close()"
   ]
  },
  {
   "cell_type": "code",
   "execution_count": 61,
   "metadata": {},
   "outputs": [
    {
     "data": {
      "text/plain": [
       "(6, 6)"
      ]
     },
     "execution_count": 61,
     "metadata": {},
     "output_type": "execute_result"
    }
   ],
   "source": [
    "count1,count2"
   ]
  },
  {
   "cell_type": "code",
   "execution_count": null,
   "metadata": {},
   "outputs": [],
   "source": []
  }
 ],
 "metadata": {
  "kernelspec": {
   "display_name": "Python 3",
   "language": "python",
   "name": "python3"
  },
  "language_info": {
   "codemirror_mode": {
    "name": "ipython",
    "version": 3
   },
   "file_extension": ".py",
   "mimetype": "text/x-python",
   "name": "python",
   "nbconvert_exporter": "python",
   "pygments_lexer": "ipython3",
   "version": "3.5.2"
  }
 },
 "nbformat": 4,
 "nbformat_minor": 2
}
