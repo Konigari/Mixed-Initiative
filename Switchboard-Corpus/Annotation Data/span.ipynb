{
 "cells": [
  {
   "cell_type": "code",
   "execution_count": 3,
   "metadata": {},
   "outputs": [],
   "source": [
    "import os\n",
    "import pandas as pd"
   ]
  },
  {
   "cell_type": "code",
   "execution_count": 27,
   "metadata": {},
   "outputs": [],
   "source": [
    "dirs = os.listdir('./ASSIGNMENTS CSV')\n",
    "ass  = dirs\n",
    "dirs = ['ASSIGNMENTS CSV/'+ x for x in dirs ]\n",
    "textss = []\n",
    "labelss = []\n",
    "newFile = pd.DataFrame(columns=['Story','Section'])\n",
    "for index1,files in enumerate(dirs):\n",
    "    reads = pd.read_csv(files,delimiter = ',')\n",
    "    stack = []\n",
    "    classes = []\n",
    "    tags = reads['Custom Tag']\n",
    "    check = reads['Custom Tag'].isnull()\n",
    "    for index,tag in enumerate(tags):\n",
    "        if not check[index]:\n",
    "            if 'end' in tag or 'End' in tag:\n",
    "                if len(stack) != 0:\n",
    "                    if 'major' in stack[len(stack) - 1] or 'Major' in stack[len(stack)-1]:\n",
    "                        classes.append(int(0))\n",
    "                    elif 'minor' in stack[len(stack) - 1] or 'Minor' in stack[len(stack)-1]:\n",
    "                        classes.append(int(1))\n",
    "                    elif 'off' in stack[len(stack) - 1] or 'Off' in stack[len(stack)-1]:\n",
    "                        classes.append(int(2))\n",
    "                    else:\n",
    "                        classes.append(int(0))\n",
    "                    stack.pop()\n",
    "                else:\n",
    "                    classes.append(int(0))\n",
    "                continue\n",
    "            stack.append(tag)\n",
    "#         print(reads['Conversation'][index],)\n",
    "#         print(len(reads),index)\n",
    "        try:\n",
    "            if 'major' in stack[len(stack) - 1] or 'Major' in stack[len(stack)-1]:\n",
    "                classes.append(int(0))\n",
    "            elif 'minor' in stack[len(stack) - 1] or 'Minor' in stack[len(stack)-1]:\n",
    "                classes.append(int(1))\n",
    "            elif 'off' in stack[len(stack) - 1] or 'Off' in stack[len(stack)-1]:\n",
    "                classes.append(int(2))\n",
    "            else:\n",
    "                classes.append(int(0))\n",
    "        except:\n",
    "            classes.append(int(0))\n",
    "#         print(len(reads),len(classes),files)\n",
    "    reads['Class']  = classes\n",
    "    for x in reads['Conversation']:\n",
    "        textss.append(x)\n",
    "    for x in reads['Class']:\n",
    "        labelss.append(x)\n",
    "#     reads.to_csv('./Generated CSV/'+ass[index1][:4]+'.csv')\n",
    "\n",
    "newFile['Story'] = textss\n",
    "newFile['Section'] = labelss"
   ]
  },
  {
   "cell_type": "code",
   "execution_count": 31,
   "metadata": {},
   "outputs": [],
   "source": [
    "newFile.to_csv('data.csv',index=False)"
   ]
  },
  {
   "cell_type": "code",
   "execution_count": null,
   "metadata": {},
   "outputs": [],
   "source": []
  }
 ],
 "metadata": {
  "kernelspec": {
   "display_name": "Python 3",
   "language": "python",
   "name": "python3"
  },
  "language_info": {
   "codemirror_mode": {
    "name": "ipython",
    "version": 3
   },
   "file_extension": ".py",
   "mimetype": "text/x-python",
   "name": "python",
   "nbconvert_exporter": "python",
   "pygments_lexer": "ipython3",
   "version": "3.5.2"
  }
 },
 "nbformat": 4,
 "nbformat_minor": 2
}
