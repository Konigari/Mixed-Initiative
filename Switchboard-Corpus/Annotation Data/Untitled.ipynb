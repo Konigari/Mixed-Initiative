{
 "cells": [
  {
   "cell_type": "code",
   "execution_count": 2,
   "metadata": {},
   "outputs": [],
   "source": [
    "import pandas as pd\n",
    "import os\n",
    "import nltk\n",
    "from nltk.corpus import stopwords \n",
    "from nltk.tokenize import word_tokenize "
   ]
  },
  {
   "cell_type": "code",
   "execution_count": 14,
   "metadata": {},
   "outputs": [],
   "source": [
    "stop_words = set(stopwords.words('english'))\n",
    "dirs = os.listdir('./Generated CSV/')\n",
    "ass  = dirs\n",
    "dirs = ['Generated CSV/'+ x for x in dirs ]\n",
    "myfile = open('xyz.txt', 'w+')\n",
    "for index1,files in enumerate(dirs):\n",
    "    reads = pd.read_csv(files,delimiter = ',')\n",
    "    j = 1\n",
    "    label = []\n",
    "    for index,word in enumerate(range(len(reads)-10)):\n",
    "        var1 = str(j) + ' ' + str(word)\n",
    "#         print(type(word))\n",
    "#         word_tokens = word_tokenize(example_sent) \n",
    "#         filtered_sentence = [w for w in word_tokens if not w in stop_words] \n",
    "        myfile.write(\"%s\\n\" % var1)\n",
    "        label.append(reads['Class'][index])\n",
    "#         print(var1)\n",
    "        if j == 10:\n",
    "            if x.count(x[0]) == len(x): \n",
    "                var1 = j + \" Is there a topic shift \tno\t-1\"\n",
    "                myfile.write(\"%s\\n\" % var1)\n",
    "            else:\n",
    "                var1 = j + \" Is there a topic shift \tyes\t-1\"\n",
    "                myfile.write(\"%s\\n\" % var1)\n",
    "                print(var1)\n",
    "            j = 1"
   ]
  },
  {
   "cell_type": "code",
   "execution_count": null,
   "metadata": {},
   "outputs": [],
   "source": []
  }
 ],
 "metadata": {
  "kernelspec": {
   "display_name": "Python 3",
   "language": "python",
   "name": "python3"
  },
  "language_info": {
   "codemirror_mode": {
    "name": "ipython",
    "version": 3
   },
   "file_extension": ".py",
   "mimetype": "text/x-python",
   "name": "python",
   "nbconvert_exporter": "python",
   "pygments_lexer": "ipython3",
   "version": "3.7.3"
  }
 },
 "nbformat": 4,
 "nbformat_minor": 2
}
