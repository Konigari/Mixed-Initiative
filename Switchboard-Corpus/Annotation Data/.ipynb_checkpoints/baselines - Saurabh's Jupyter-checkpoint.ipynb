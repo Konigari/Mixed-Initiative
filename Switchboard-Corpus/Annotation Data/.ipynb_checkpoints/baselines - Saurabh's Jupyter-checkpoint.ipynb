{
 "cells": [
  {
   "cell_type": "code",
   "execution_count": 12,
   "metadata": {},
   "outputs": [],
   "source": [
    "from sklearn.feature_extraction.text import CountVectorizer\n",
    "from sklearn.feature_extraction.text import TfidfTransformer\n",
    "from sklearn.naive_bayes import MultinomialNB\n",
    "from sklearn.pipeline import Pipeline\n",
    "import os \n",
    "import numpy as np\n",
    "import glob\n",
    "import pandas as pd\n",
    "from sklearn.model_selection import train_test_split\n",
    "from sklearn.linear_model import SGDClassifier\n",
    "from sklearn.model_selection import GridSearchCV\n",
    "from sklearn.linear_model import LogisticRegression\n",
    "from nltk.stem.porter import PorterStemmer\n",
    "from nltk.tokenize import word_tokenize"
   ]
  },
  {
   "cell_type": "code",
   "execution_count": 22,
   "metadata": {},
   "outputs": [],
   "source": [
    "dirs = [files for files in glob.glob('./Generated CSV/*.csv')]"
   ]
  },
  {
   "cell_type": "code",
   "execution_count": 24,
   "metadata": {},
   "outputs": [],
   "source": [
    "text = []\n",
    "target = []\n",
    "\n",
    "for files in dirs:\n",
    "    df = pd.read_csv(files,delimiter=',')\n",
    "    check = df['Conversation'].isnull()\n",
    "    for index,lines in enumerate(df['Conversation']):\n",
    "        if not check[index]:\n",
    "            text.append(lines)\n",
    "            target.append(df['Class'][index])"
   ]
  },
  {
   "cell_type": "code",
   "execution_count": 33,
   "metadata": {},
   "outputs": [],
   "source": [
    "text_clf = Pipeline([\n",
    "    ('vect', CountVectorizer(analyzer='char',ngram_range=(2, 6))),\n",
    "    ('tfidf', TfidfTransformer()),\n",
    "    ('clf', SGDClassifier(loss='hinge', penalty='l2',\n",
    "                          alpha=1e-3, random_state=42,\n",
    "                          max_iter=5, tol=None)),\n",
    "])\n",
    "# text_clf = Pipeline([\n",
    "#     ('vect', CountVectorizer()),\n",
    "#     ('tfidf', TfidfTransformer()),\n",
    "#     ('clf', MultinomialNB())])\n",
    "# text_clf = Pipeline([\n",
    "#     ('vect', CountVectorizer()),\n",
    "#     ('tfidf', TfidfTransformer()),\n",
    "#     ('clf', LogisticRegression(random_state=0, solver='lbfgs',\n",
    "#                          multi_class='multinomial')),\n",
    "# ])"
   ]
  },
  {
   "cell_type": "code",
   "execution_count": 34,
   "metadata": {},
   "outputs": [],
   "source": [
    "X_train, X_test, y_train, y_test = train_test_split(text, target, test_size=0.2,shuffle=False)"
   ]
  },
  {
   "cell_type": "code",
   "execution_count": 35,
   "metadata": {},
   "outputs": [],
   "source": [
    "porter = PorterStemmer()\n",
    "stemmed = []\n",
    "\n",
    "for index,sentence in enumerate(X_train):\n",
    "    tokens = word_tokenize(sentence)\n",
    "    porter = PorterStemmer()\n",
    "    stemmed = [porter.stem(word) for word in tokens]\n",
    "    X_train[index] = ' '.join(stemmed)\n",
    "    \n",
    "for index,sentence in enumerate(X_test):\n",
    "    tokens = word_tokenize(sentence)\n",
    "    porter = PorterStemmer()\n",
    "    stemmed = [porter.stem(word) for word in tokens]\n",
    "    X_test[index] = ' '.join(stemmed)"
   ]
  },
  {
   "cell_type": "code",
   "execution_count": 36,
   "metadata": {},
   "outputs": [
    {
     "data": {
      "text/plain": [
       "Pipeline(memory=None,\n",
       "         steps=[('vect',\n",
       "                 CountVectorizer(analyzer='char', binary=False,\n",
       "                                 decode_error='strict',\n",
       "                                 dtype=<class 'numpy.int64'>, encoding='utf-8',\n",
       "                                 input='content', lowercase=True, max_df=1.0,\n",
       "                                 max_features=None, min_df=1,\n",
       "                                 ngram_range=(2, 6), preprocessor=None,\n",
       "                                 stop_words=None, strip_accents=None,\n",
       "                                 token_pattern='(?u)\\\\b\\\\w\\\\w+\\\\b',\n",
       "                                 tokenizer=None, vocabulary=Non...\n",
       "                ('clf',\n",
       "                 SGDClassifier(alpha=0.001, average=False, class_weight=None,\n",
       "                               early_stopping=False, epsilon=0.1, eta0=0.0,\n",
       "                               fit_intercept=True, l1_ratio=0.15,\n",
       "                               learning_rate='optimal', loss='hinge',\n",
       "                               max_iter=5, n_iter_no_change=5, n_jobs=None,\n",
       "                               penalty='l2', power_t=0.5, random_state=42,\n",
       "                               shuffle=True, tol=None, validation_fraction=0.1,\n",
       "                               verbose=0, warm_start=False))],\n",
       "         verbose=False)"
      ]
     },
     "execution_count": 36,
     "metadata": {},
     "output_type": "execute_result"
    }
   ],
   "source": [
    "text_clf.fit(X_train,y_train)  "
   ]
  },
  {
   "cell_type": "code",
   "execution_count": 37,
   "metadata": {},
   "outputs": [
    {
     "data": {
      "text/plain": [
       "0.38197767145135564"
      ]
     },
     "execution_count": 37,
     "metadata": {},
     "output_type": "execute_result"
    }
   ],
   "source": [
    "docs_test = X_test\n",
    "predicted = text_clf.predict(docs_test)\n",
    "np.mean(predicted == y_test)"
   ]
  },
  {
   "cell_type": "code",
   "execution_count": 38,
   "metadata": {},
   "outputs": [],
   "source": [
    "parameters = {\n",
    "    'vect__ngram_range': [(2, 4), (2, 6),(2,8)],\n",
    "    'tfidf__use_idf': (True, False),\n",
    "    'clf__alpha': (1e-2, 1e-3,1e-1,1e-4),\n",
    "}"
   ]
  },
  {
   "cell_type": "code",
   "execution_count": 39,
   "metadata": {},
   "outputs": [],
   "source": [
    "gs_clf = GridSearchCV(text_clf, parameters, cv=5, iid=False, n_jobs=-1)"
   ]
  },
  {
   "cell_type": "code",
   "execution_count": 40,
   "metadata": {},
   "outputs": [],
   "source": [
    "gs_clf = gs_clf.fit(X_train,y_train)"
   ]
  },
  {
   "cell_type": "code",
   "execution_count": 41,
   "metadata": {},
   "outputs": [
    {
     "data": {
      "text/plain": [
       "0.38197767145135564"
      ]
     },
     "execution_count": 41,
     "metadata": {},
     "output_type": "execute_result"
    }
   ],
   "source": [
    "docs_test = X_test\n",
    "predicted = gs_clf.predict(docs_test)\n",
    "np.mean(predicted == y_test)"
   ]
  },
  {
   "cell_type": "code",
   "execution_count": 42,
   "metadata": {},
   "outputs": [
    {
     "data": {
      "text/plain": [
       "0.4043895636907286"
      ]
     },
     "execution_count": 42,
     "metadata": {},
     "output_type": "execute_result"
    }
   ],
   "source": [
    "gs_clf.best_score_ "
   ]
  },
  {
   "cell_type": "code",
   "execution_count": 43,
   "metadata": {},
   "outputs": [
    {
     "data": {
      "text/plain": [
       "{'mean_fit_time': array([0.90783334, 5.39342356, 7.49152374, 1.23249869, 4.50110936,\n",
       "        7.59686403, 1.42193165, 3.27133622, 9.26128349, 2.23914299,\n",
       "        2.84855847, 8.81538348, 2.58458743, 2.47575526, 9.24737864,\n",
       "        3.32564993, 2.49377966, 7.94389138, 3.01807437, 2.78017015,\n",
       "        9.22432485, 3.19941568, 2.46289482, 3.67421074]),\n",
       " 'std_fit_time': array([0.15089599, 1.1243999 , 1.50523641, 0.19513954, 0.94192728,\n",
       "        1.14868395, 0.25619692, 0.6581179 , 0.52376997, 0.84474123,\n",
       "        0.3402822 , 0.3130512 , 1.05558676, 0.05454763, 0.42408988,\n",
       "        0.66985565, 0.11847266, 0.83521623, 1.03135604, 0.68846208,\n",
       "        0.42372308, 0.85272889, 0.06714076, 0.27654367]),\n",
       " 'mean_score_time': array([0.22592731, 1.20459747, 1.10476041, 0.24964366, 1.41683316,\n",
       "        0.62184691, 0.27492619, 1.31884351, 0.77840309, 0.27220449,\n",
       "        0.98690753, 0.63121343, 0.36302853, 0.70005174, 0.7580822 ,\n",
       "        0.58578777, 0.41819682, 1.30005102, 0.77125754, 0.82384906,\n",
       "        0.76479793, 0.59379416, 0.43579621, 0.37355065]),\n",
       " 'std_score_time': array([0.00909202, 0.45521435, 0.53726476, 0.01757926, 0.09974012,\n",
       "        0.05919074, 0.04179784, 0.44305703, 0.1034447 , 0.03199008,\n",
       "        0.41467793, 0.07007822, 0.220106  , 0.47204964, 0.2202948 ,\n",
       "        0.28147229, 0.02606648, 0.69927173, 0.09734828, 0.48792282,\n",
       "        0.17123393, 0.23965942, 0.02251073, 0.06135829]),\n",
       " 'param_clf__alpha': masked_array(data=[0.01, 0.01, 0.01, 0.01, 0.01, 0.01, 0.001, 0.001,\n",
       "                    0.001, 0.001, 0.001, 0.001, 0.1, 0.1, 0.1, 0.1, 0.1,\n",
       "                    0.1, 0.0001, 0.0001, 0.0001, 0.0001, 0.0001, 0.0001],\n",
       "              mask=[False, False, False, False, False, False, False, False,\n",
       "                    False, False, False, False, False, False, False, False,\n",
       "                    False, False, False, False, False, False, False, False],\n",
       "        fill_value='?',\n",
       "             dtype=object),\n",
       " 'param_tfidf__use_idf': masked_array(data=[True, True, True, False, False, False, True, True,\n",
       "                    True, False, False, False, True, True, True, False,\n",
       "                    False, False, True, True, True, False, False, False],\n",
       "              mask=[False, False, False, False, False, False, False, False,\n",
       "                    False, False, False, False, False, False, False, False,\n",
       "                    False, False, False, False, False, False, False, False],\n",
       "        fill_value='?',\n",
       "             dtype=object),\n",
       " 'param_vect__ngram_range': masked_array(data=[(2, 4), (2, 6), (2, 8), (2, 4), (2, 6), (2, 8), (2, 4),\n",
       "                    (2, 6), (2, 8), (2, 4), (2, 6), (2, 8), (2, 4), (2, 6),\n",
       "                    (2, 8), (2, 4), (2, 6), (2, 8), (2, 4), (2, 6), (2, 8),\n",
       "                    (2, 4), (2, 6), (2, 8)],\n",
       "              mask=[False, False, False, False, False, False, False, False,\n",
       "                    False, False, False, False, False, False, False, False,\n",
       "                    False, False, False, False, False, False, False, False],\n",
       "        fill_value='?',\n",
       "             dtype=object),\n",
       " 'params': [{'clf__alpha': 0.01,\n",
       "   'tfidf__use_idf': True,\n",
       "   'vect__ngram_range': (2, 4)},\n",
       "  {'clf__alpha': 0.01, 'tfidf__use_idf': True, 'vect__ngram_range': (2, 6)},\n",
       "  {'clf__alpha': 0.01, 'tfidf__use_idf': True, 'vect__ngram_range': (2, 8)},\n",
       "  {'clf__alpha': 0.01, 'tfidf__use_idf': False, 'vect__ngram_range': (2, 4)},\n",
       "  {'clf__alpha': 0.01, 'tfidf__use_idf': False, 'vect__ngram_range': (2, 6)},\n",
       "  {'clf__alpha': 0.01, 'tfidf__use_idf': False, 'vect__ngram_range': (2, 8)},\n",
       "  {'clf__alpha': 0.001, 'tfidf__use_idf': True, 'vect__ngram_range': (2, 4)},\n",
       "  {'clf__alpha': 0.001, 'tfidf__use_idf': True, 'vect__ngram_range': (2, 6)},\n",
       "  {'clf__alpha': 0.001, 'tfidf__use_idf': True, 'vect__ngram_range': (2, 8)},\n",
       "  {'clf__alpha': 0.001, 'tfidf__use_idf': False, 'vect__ngram_range': (2, 4)},\n",
       "  {'clf__alpha': 0.001, 'tfidf__use_idf': False, 'vect__ngram_range': (2, 6)},\n",
       "  {'clf__alpha': 0.001, 'tfidf__use_idf': False, 'vect__ngram_range': (2, 8)},\n",
       "  {'clf__alpha': 0.1, 'tfidf__use_idf': True, 'vect__ngram_range': (2, 4)},\n",
       "  {'clf__alpha': 0.1, 'tfidf__use_idf': True, 'vect__ngram_range': (2, 6)},\n",
       "  {'clf__alpha': 0.1, 'tfidf__use_idf': True, 'vect__ngram_range': (2, 8)},\n",
       "  {'clf__alpha': 0.1, 'tfidf__use_idf': False, 'vect__ngram_range': (2, 4)},\n",
       "  {'clf__alpha': 0.1, 'tfidf__use_idf': False, 'vect__ngram_range': (2, 6)},\n",
       "  {'clf__alpha': 0.1, 'tfidf__use_idf': False, 'vect__ngram_range': (2, 8)},\n",
       "  {'clf__alpha': 0.0001, 'tfidf__use_idf': True, 'vect__ngram_range': (2, 4)},\n",
       "  {'clf__alpha': 0.0001, 'tfidf__use_idf': True, 'vect__ngram_range': (2, 6)},\n",
       "  {'clf__alpha': 0.0001, 'tfidf__use_idf': True, 'vect__ngram_range': (2, 8)},\n",
       "  {'clf__alpha': 0.0001, 'tfidf__use_idf': False, 'vect__ngram_range': (2, 4)},\n",
       "  {'clf__alpha': 0.0001, 'tfidf__use_idf': False, 'vect__ngram_range': (2, 6)},\n",
       "  {'clf__alpha': 0.0001,\n",
       "   'tfidf__use_idf': False,\n",
       "   'vect__ngram_range': (2, 8)}],\n",
       " 'split0_test_score': array([0.37169905, 0.37967115, 0.37967115, 0.38614848, 0.37717987,\n",
       "        0.37967115, 0.38863976, 0.39212755, 0.3961136 , 0.38913802,\n",
       "        0.38714499, 0.39461883, 0.34877927, 0.34678625, 0.3472845 ,\n",
       "        0.38664674, 0.37917289, 0.37419033, 0.38415546, 0.39212755,\n",
       "        0.38913802, 0.36621824, 0.3632287 , 0.38116592]),\n",
       " 'split1_test_score': array([0.41375872, 0.39282154, 0.39232303, 0.42522433, 0.4217348 ,\n",
       "        0.41176471, 0.40279163, 0.40478564, 0.40129611, 0.40528415,\n",
       "        0.39930209, 0.39830508, 0.40279163, 0.40279163, 0.40279163,\n",
       "        0.40279163, 0.40279163, 0.40279163, 0.3773679 , 0.37836491,\n",
       "        0.37487537, 0.39282154, 0.39182453, 0.39581256]),\n",
       " 'split2_test_score': array([0.40378863, 0.40129611, 0.40129611, 0.40877368, 0.41674975,\n",
       "        0.41375872, 0.40528415, 0.40827517, 0.39930209, 0.40677966,\n",
       "        0.40279163, 0.39930209, 0.40279163, 0.40279163, 0.40279163,\n",
       "        0.40279163, 0.40279163, 0.40279163, 0.38783649, 0.39481555,\n",
       "        0.39032901, 0.39431705, 0.39082752, 0.39730808]),\n",
       " 'split3_test_score': array([0.36141575, 0.35643071, 0.3559322 , 0.39032901, 0.38434696,\n",
       "        0.37387836, 0.39880359, 0.39730808, 0.39182453, 0.39132602,\n",
       "        0.39481555, 0.38983051, 0.37337986, 0.37238285, 0.37238285,\n",
       "        0.3778664 , 0.37238285, 0.37238285, 0.38534397, 0.38534397,\n",
       "        0.38135593, 0.38484546, 0.38733799, 0.38185444]),\n",
       " 'split4_test_score': array([0.40199501, 0.39301746, 0.38952618, 0.40199501, 0.39501247,\n",
       "        0.40149626, 0.4084788 , 0.41945137, 0.41895262, 0.41197007,\n",
       "        0.41895262, 0.4074813 , 0.40299252, 0.40299252, 0.40299252,\n",
       "        0.40299252, 0.40299252, 0.40299252, 0.40798005, 0.41845387,\n",
       "        0.39850374, 0.38553616, 0.41246883, 0.40698254]),\n",
       " 'mean_test_score': array([0.39053144, 0.38464739, 0.38374974, 0.4024941 , 0.39900477,\n",
       "        0.39611384, 0.40079959, 0.40438956, 0.40149779, 0.40089958,\n",
       "        0.40060138, 0.39790756, 0.38614698, 0.38554897, 0.38564862,\n",
       "        0.39461778, 0.3920263 , 0.39102979, 0.38853677, 0.39382117,\n",
       "        0.38684042, 0.38474769, 0.38913751, 0.39262471]),\n",
       " 'std_test_score': array([0.02024379, 0.01571623, 0.01552542, 0.01393925, 0.01754226,\n",
       "        0.01643192, 0.00685413, 0.00940869, 0.00929617, 0.00901491,\n",
       "        0.01056223, 0.00582776, 0.02189614, 0.02269269, 0.02252271,\n",
       "        0.0104681 , 0.01343962, 0.01449872, 0.01032148, 0.01357487,\n",
       "        0.00808362, 0.01000731, 0.01567757, 0.0098544 ]),\n",
       " 'rank_test_score': array([15, 23, 24,  2,  7,  9,  5,  1,  3,  4,  6,  8, 19, 21, 20, 10, 13,\n",
       "        14, 17, 11, 18, 22, 16, 12], dtype=int32)}"
      ]
     },
     "execution_count": 43,
     "metadata": {},
     "output_type": "execute_result"
    }
   ],
   "source": [
    "gs_clf.cv_results_"
   ]
  },
  {
   "cell_type": "code",
   "execution_count": 44,
   "metadata": {},
   "outputs": [
    {
     "data": {
      "text/plain": [
       "{'clf__alpha': 0.001, 'tfidf__use_idf': True, 'vect__ngram_range': (2, 6)}"
      ]
     },
     "execution_count": 44,
     "metadata": {},
     "output_type": "execute_result"
    }
   ],
   "source": [
    "gs_clf.best_params_"
   ]
  },
  {
   "cell_type": "code",
   "execution_count": null,
   "metadata": {},
   "outputs": [],
   "source": []
  }
 ],
 "metadata": {
  "kernelspec": {
   "display_name": "Python 3",
   "language": "python",
   "name": "python3"
  },
  "language_info": {
   "codemirror_mode": {
    "name": "ipython",
    "version": 3
   },
   "file_extension": ".py",
   "mimetype": "text/x-python",
   "name": "python",
   "nbconvert_exporter": "python",
   "pygments_lexer": "ipython3",
   "version": "3.7.3"
  }
 },
 "nbformat": 4,
 "nbformat_minor": 2
}
