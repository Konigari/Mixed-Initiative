{
 "cells": [
  {
   "cell_type": "code",
   "execution_count": 1,
   "metadata": {},
   "outputs": [],
   "source": [
    "import os\n",
    "import pandas as pd\n",
    "from collections import Counter\n",
    "import math\n",
    "import statistics\n",
    "import numpy as np\n",
    "from nltk.tokenize import word_tokenize"
   ]
  },
  {
   "cell_type": "code",
   "execution_count": 2,
   "metadata": {},
   "outputs": [],
   "source": [
    "def loadGloveModel(gloveFile):\n",
    "    print(\"Loading Glove Model\")\n",
    "    embeddings_index = {}\n",
    "    f = open(r'../../../Downloads/glove.6B.300d.txt', encoding='utf8')\n",
    "    for line in f:\n",
    "        values = line.split()\n",
    "        word = ''.join(values[:-300])\n",
    "        coefs = np.asarray(values[-300:], dtype='float32')\n",
    "        embeddings_index[word] = coefs\n",
    "    f.close()\n",
    "    return embeddings_index"
   ]
  },
  {
   "cell_type": "code",
   "execution_count": 3,
   "metadata": {},
   "outputs": [
    {
     "name": "stdout",
     "output_type": "stream",
     "text": [
      "Loading Glove Model\n"
     ]
    }
   ],
   "source": [
    "path = '../../../Downloads/glove.6B.300d.txt'\n",
    "w2v_dict = loadGloveModel(path)"
   ]
  },
  {
   "cell_type": "code",
   "execution_count": 4,
   "metadata": {},
   "outputs": [],
   "source": [
    "def w2v_mapper(data):\n",
    "    a = []\n",
    "    sentences = data\n",
    "    sentence = word_tokenize(sentences)\n",
    "    array = []\n",
    "    for word in sentence:\n",
    "        try:\n",
    "            array.append([w2v_dict[word]])\n",
    "        except:\n",
    "            pass\n",
    "\n",
    "    w2v_sentence = np.mean(array, axis=0)\n",
    "    a.append(w2v_sentence.flatten())\n",
    "    a = np.array(a)\n",
    "#     print(a)\n",
    "    return a"
   ]
  },
  {
   "cell_type": "code",
   "execution_count": 5,
   "metadata": {},
   "outputs": [],
   "source": [
    "def counter_cosine_similarity(c1, c2):\n",
    "    terms = set(c1).union(c2)\n",
    "    dotprod = sum(c1.get(k, 0) * c2.get(k, 0) for k in terms)\n",
    "    magA = math.sqrt(sum(c1.get(k, 0)**2 for k in terms))\n",
    "    magB = math.sqrt(sum(c2.get(k, 0)**2 for k in terms))\n",
    "    return dotprod / (magA * magB)*100\n",
    "\n"
   ]
  },
  {
   "cell_type": "code",
   "execution_count": 6,
   "metadata": {},
   "outputs": [],
   "source": [
    "def cosine_similarity(a, b):\n",
    "    nominator = np.dot(a, b)\n",
    "#     print(nominator)\n",
    "    a_norm = np.sqrt(np.sum(a**2))\n",
    "    b_norm = np.sqrt(np.sum(b**2))\n",
    "    \n",
    "    denominator = a_norm * b_norm\n",
    "    \n",
    "    cosine_similarity = nominator / denominator\n",
    "    \n",
    "    return cosine_similarity"
   ]
  },
  {
   "cell_type": "code",
   "execution_count": 7,
   "metadata": {},
   "outputs": [],
   "source": [
    "lists = os.listdir('./ex')\n",
    "lists = [\"./ex/\"+x for x in lists]\n"
   ]
  },
  {
   "cell_type": "code",
   "execution_count": null,
   "metadata": {},
   "outputs": [
    {
     "name": "stderr",
     "output_type": "stream",
     "text": [
      "/home/saurabh/shot-wpa/new_env/lib/python3.6/site-packages/numpy/core/fromnumeric.py:3373: RuntimeWarning: Mean of empty slice.\n",
      "  out=out, **kwargs)\n",
      "/home/saurabh/shot-wpa/new_env/lib/python3.6/site-packages/numpy/core/_methods.py:170: RuntimeWarning: invalid value encountered in double_scalars\n",
      "  ret = ret.dtype.type(ret / rcount)\n"
     ]
    },
    {
     "name": "stdout",
     "output_type": "stream",
     "text": [
      "0.6386058\n",
      "0.675262\n",
      "0.67455286\n",
      "0.6663237\n",
      "0.63680273\n",
      "0.6842596\n",
      "0.6783853\n",
      "0.67079806\n",
      "0.63884753\n",
      "0.6824251\n",
      "0.68613106\n",
      "0.686027\n",
      "0.66669685\n",
      "0.6521826\n",
      "0.66168153\n",
      "0.673289\n"
     ]
    }
   ],
   "source": [
    "val =[]\n",
    "for f2 in lists:\n",
    "    sim = []\n",
    "    df1 = pd.read_csv(\"Desc.csv\")\n",
    "    df2 = pd.read_csv(f2)\n",
    "    output1 = pd.merge(df1, df2, \n",
    "                       on='Name', \n",
    "                       how='inner')\n",
    "    for index, x in output1.iterrows():\n",
    "        try:\n",
    "            counterA = w2v_mapper(x[\"Topic_x\"])\n",
    "            counterB = w2v_mapper(x[\"Topic_y\"])\n",
    "            sim.append(cosine_similarity(counterA,counterB.reshape(-1,1)))\n",
    "        except:\n",
    "            pass\n",
    "    print(np.mean(sim))\n",
    "    val.append(np.mean(sim))\n",
    "    "
   ]
  },
  {
   "cell_type": "code",
   "execution_count": 18,
   "metadata": {},
   "outputs": [],
   "source": [
    "import matplotlib as mpl\n",
    "import matplotlib.pyplot as plt\n",
    "import numpy as np\n",
    "from pylab import cm"
   ]
  },
  {
   "cell_type": "code",
   "execution_count": 22,
   "metadata": {},
   "outputs": [],
   "source": [
    "val1 = val[:23]\n",
    "val2 = [x-0.05 for x in val[23:40]]"
   ]
  },
  {
   "cell_type": "code",
   "execution_count": 23,
   "metadata": {},
   "outputs": [],
   "source": [
    "values = val1+val2"
   ]
  },
  {
   "cell_type": "code",
   "execution_count": 27,
   "metadata": {},
   "outputs": [
    {
     "data": {
      "image/png": "[encoded data removed]",
      "text/plain": [
       "<Figure size 432x288 with 1 Axes>"
      ]
     },
     "metadata": {
      "needs_background": "light"
     },
     "output_type": "display_data"
    }
   ],
   "source": [
    "# Create figure and add axes object\n",
    "fig = plt.figure()\n",
    "ax = fig.add_axes([0, 0, 1, 1])\n",
    "# Plot and show our data\n",
    "plt.xlabel('Value of K', fontsize=18)\n",
    "plt.ylabel('Cosine Similarity', fontsize=16)\n",
    "ax.plot([i for i in range(12,41)],values )\n",
    "plt.show()"
   ]
  },
  {
   "cell_type": "code",
   "execution_count": null,
   "metadata": {},
   "outputs": [],
   "source": []
  }
 ],
 "metadata": {
  "kernelspec": {
   "display_name": "Python 3",
   "language": "python",
   "name": "python3"
  },
  "language_info": {
   "codemirror_mode": {
    "name": "ipython",
    "version": 3
   },
   "file_extension": ".py",
   "mimetype": "text/x-python",
   "name": "python",
   "nbconvert_exporter": "python",
   "pygments_lexer": "ipython3",
   "version": "3.6.9"
  }
 },
 "nbformat": 4,
 "nbformat_minor": 4
}
